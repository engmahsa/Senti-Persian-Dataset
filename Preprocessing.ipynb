{
  "nbformat": 4,
  "nbformat_minor": 0,
  "metadata": {
    "colab": {
      "provenance": []
    },
    "kernelspec": {
      "name": "python3",
      "display_name": "Python 3"
    },
    "language_info": {
      "name": "python"
    }
  },
  "cells": [
    {
      "cell_type": "code",
      "source": [
        "import os\n",
        "\n",
        "import numpy as np\n",
        "\n",
        "\n",
        "from transformers import AdamW\n",
        "from transformers import get_linear_schedule_with_warmup\n",
        "# from cleantext import clean\n",
        "\n",
        "import re\n",
        "\n",
        "\n",
        "def cleanhtml(txt):\n",
        "    cleanr = re.compile('<.*?>')\n",
        "    if cleanr.search(txt):\n",
        "        return 1\n",
        "    else :\n",
        "      return txt\n",
        "\n",
        "\n",
        "def cleanrepeatedChar(txt):\n",
        "    pattern = r'(.)\\1+'\n",
        "    clean_text = re.sub(pattern, r'\\1', txt)\n",
        "    return clean_text\n",
        "\n",
        "def remove_unwanted_chars(text):\n",
        "    result = ''.join(char for char in text if char.isalnum() or char.isspace())\n",
        "    return result\n",
        "\n",
        "def cleaning(txt):\n",
        "    text = txt.strip()\n",
        "\n",
        "    # cleaning htmls\n",
        "    text = cleanhtml(text)\n",
        "    text = cleanrepeatedChar(text)\n",
        "    text = remove_unwanted_chars(text)\n",
        "    # removing wierd patterns\n",
        "    wierd_pattern = re.compile(\"[\"\n",
        "                               u\"\\U0001F600-\\U0001F64F\"  # emoticons\n",
        "                               u\"\\U0001F300-\\U0001F5FF\"  # symbols & pictographs\n",
        "                               u\"\\U0001F680-\\U0001F6FF\"  # transport & map symbols\n",
        "                               u\"\\U0001F1E0-\\U0001F1FF\"  # flags (iOS)\n",
        "                               u\"\\U00002702-\\U000027B0\"\n",
        "                               u\"\\U000024C2-\\U0001F251\"\n",
        "                               u\"\\U0001f926-\\U0001f937\"\n",
        "                               u'\\U00010000-\\U0010ffff'\n",
        "                               u\"\\u200d\"\n",
        "                               u\"\\u2640-\\u2642\"\n",
        "                               u\"\\u2600-\\u2B55\"\n",
        "                               u\"\\u23cf\"\n",
        "                               u\"\\u23e9\"\n",
        "                               u\"\\u231a\"\n",
        "                               u\"\\u3030\"\n",
        "                               u\"\\ufe0f\"\n",
        "                               u\"\\u2069\"\n",
        "                               u\"\\u2066\"\n",
        "                               u\"\\u2068\"\n",
        "                               u\"\\u2067\"\n",
        "                               \"]+\", flags=re.UNICODE)\n",
        "\n",
        "    text = wierd_pattern.sub(r'', text)\n",
        "\n",
        "    # removing extra spaces, hashtags\n",
        "    text = re.sub(\"#\", \"\", text)\n",
        "    text = re.sub(\"\\s+\", \" \", text)\n",
        "\n",
        "    return text\n",
        "\n",
        "\n",
        "\n",
        "\n",
        "\n",
        "tmpTxt = cleaning(\"بسیییییییار فیلم بدی بود!:!:!>\")\n",
        "\n",
        "print(tmpTxt)\n",
        "\n",
        "\n"
      ],
      "metadata": {
        "colab": {
          "base_uri": "https://localhost:8080/"
        },
        "id": "4Hk1wz2vAzSD",
        "outputId": "f67ae288-fda1-44d9-d12e-28b5bf9ec953"
      },
      "execution_count": 20,
      "outputs": [
        {
          "output_type": "stream",
          "name": "stdout",
          "text": [
            "بسیار فیلم بدی بود\n"
          ]
        }
      ]
    }
  ]
}